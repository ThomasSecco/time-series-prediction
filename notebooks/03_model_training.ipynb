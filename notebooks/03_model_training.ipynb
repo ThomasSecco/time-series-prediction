{
 "cells": [
  {
   "cell_type": "code",
   "execution_count": null,
   "metadata": {},
   "outputs": [],
   "source": [
    "# Import libraries\n",
    "import pandas as pd\n",
    "from src.model_training import train_arima, train_rf, train_lstm, split_data\n",
    "from sklearn.model_selection import train_test_split\n"
   ]
  },
  {
   "cell_type": "code",
   "execution_count": null,
   "metadata": {},
   "outputs": [],
   "source": [
    "\n",
    "# Load processed data\n",
    "df = pd.read_csv(\"../data/processed/preprocessed_sales.csv\")\n"
   ]
  },
  {
   "cell_type": "code",
   "execution_count": null,
   "metadata": {},
   "outputs": [],
   "source": [
    "\n",
    "# Split data\n",
    "train, test = split_data(df)\n",
    "\n",
    "# ARIMA\n",
    "arima_model = train_arima(train[\"sales\"])\n",
    "print(arima_model.summary())\n",
    "\n",
    "# Random Forest\n",
    "X_train, X_test, y_train, y_test = train_test_split(\n",
    "    train.drop(columns=[\"sales\"]), train[\"sales\"], test_size=0.2, random_state=42\n",
    ")\n",
    "rf_model = train_rf(X_train, y_train)\n",
    "\n",
    "# LSTM\n",
    "input_shape = (X_train.shape[1], 1)\n",
    "lstm_model = train_lstm(X_train.values.reshape(-1, *input_shape), y_train, input_shape)\n"
   ]
  },
  {
   "cell_type": "code",
   "execution_count": null,
   "metadata": {},
   "outputs": [],
   "source": [
    "# Save models\n",
    "from src.model_training import save_model\n",
    "\n",
    "save_model(arima_model, \"arima_sales\")\n",
    "save_model(rf_model, \"random_forest_sales\")\n",
    "save_model(lstm_model, \"lstm_sales\")\n"
   ]
  }
 ],
 "metadata": {
  "language_info": {
   "name": "python"
  }
 },
 "nbformat": 4,
 "nbformat_minor": 2
}
