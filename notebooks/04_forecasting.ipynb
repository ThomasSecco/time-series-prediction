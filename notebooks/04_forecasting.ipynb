{
 "cells": [
  {
   "cell_type": "code",
   "execution_count": null,
   "metadata": {},
   "outputs": [],
   "source": [
    "# Import libraries\n",
    "import pandas as pd\n",
    "from src.forecasting import forecast_arima, forecast_rf, forecast_lstm, plot_forecast\n"
   ]
  },
  {
   "cell_type": "code",
   "execution_count": null,
   "metadata": {},
   "outputs": [],
   "source": [
    "\n",
    "# Load processed data\n",
    "df = pd.read_csv(\"../data/processed/preprocessed_sales.csv\")\n"
   ]
  },
  {
   "cell_type": "code",
   "execution_count": null,
   "metadata": {},
   "outputs": [],
   "source": [
    "\n",
    "# Split data\n",
    "train, test = split_data(df)\n",
    "\n",
    "# Forecast with ARIMA\n",
    "arima_forecast = forecast_arima(arima_model, steps=len(test))\n",
    "plot_forecast(test[\"sales\"].values, arima_forecast, title=\"ARIMA Forecast\")\n",
    "\n",
    "# Forecast with Random Forest\n",
    "rf_forecast = forecast_rf(rf_model, X_test)\n",
    "plot_forecast(y_test.values, rf_forecast, title=\"Random Forest Forecast\")\n",
    "\n",
    "# Forecast with LSTM\n",
    "lstm_forecast = forecast_lstm(\n",
    "    lstm_model, X_test.values.reshape(-1, *input_shape), input_shape\n",
    ")\n",
    "plot_forecast(y_test.values, lstm_forecast, title=\"LSTM Forecast\")\n"
   ]
  }
 ],
 "metadata": {
  "language_info": {
   "name": "python"
  }
 },
 "nbformat": 4,
 "nbformat_minor": 2
}
