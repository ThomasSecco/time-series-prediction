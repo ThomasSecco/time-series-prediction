{
 "cells": [
  {
   "cell_type": "code",
   "execution_count": null,
   "metadata": {},
   "outputs": [],
   "source": [
    "# Import libraries\n",
    "import pandas as pd\n",
    "import matplotlib.pyplot as plt\n",
    "import seaborn as sns\n"
   ]
  },
  {
   "cell_type": "code",
   "execution_count": null,
   "metadata": {},
   "outputs": [],
   "source": [
    "\n",
    "# Load data\n",
    "df = pd.read_csv(\"../data/raw/store_sales.csv\", parse_dates=[\"date\"])\n"
   ]
  },
  {
   "cell_type": "code",
   "execution_count": null,
   "metadata": {},
   "outputs": [],
   "source": [
    "\n",
    "# Basic statistics\n",
    "print(df.info())\n",
    "print(df.describe())\n",
    "\n",
    "# Plot time series\n",
    "plt.figure(figsize=(10, 6))\n",
    "plt.plot(df[\"date\"], df[\"sales\"], label=\"Sales\")\n",
    "plt.title(\"Time Series of Sales\")\n",
    "plt.xlabel(\"Date\")\n",
    "plt.ylabel(\"Sales\")\n",
    "plt.legend()\n",
    "plt.show()\n"
   ]
  },
  {
   "cell_type": "code",
   "execution_count": null,
   "metadata": {},
   "outputs": [],
   "source": [
    "\n",
    "# Seasonal decomposition\n",
    "from statsmodels.tsa.seasonal import seasonal_decompose\n",
    "decompose_result = seasonal_decompose(df[\"sales\"], model=\"additive\", period=365)\n",
    "decompose_result.plot()\n",
    "plt.show()\n"
   ]
  }
 ],
 "metadata": {
  "language_info": {
   "name": "python"
  }
 },
 "nbformat": 4,
 "nbformat_minor": 2
}
