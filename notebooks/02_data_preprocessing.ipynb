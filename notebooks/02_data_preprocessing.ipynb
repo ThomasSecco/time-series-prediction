{
 "cells": [
  {
   "cell_type": "code",
   "execution_count": null,
   "metadata": {},
   "outputs": [],
   "source": [
    "# Import libraries\n",
    "import pandas as pd\n",
    "from src.data_processing import preprocess_data\n",
    "import matplotlib.pyplot as plt"
   ]
  },
  {
   "cell_type": "code",
   "execution_count": null,
   "metadata": {},
   "outputs": [],
   "source": [
    "\n",
    "# Load data\n",
    "df = pd.read_csv(\"../data/raw/store_sales.csv\", parse_dates=[\"date\"])\n"
   ]
  },
  {
   "cell_type": "code",
   "execution_count": null,
   "metadata": {},
   "outputs": [],
   "source": [
    "\n",
    "# Preprocess data\n",
    "processed_df, scaler = preprocess_data(df)\n",
    "\n",
    "# Save processed data\n",
    "processed_df.to_csv(\"../data/processed/preprocessed_sales.csv\", index=False)\n",
    "\n",
    "# Visualize processed data\n",
    "plt.figure(figsize=(10, 6))\n",
    "plt.plot(processed_df[\"date\"], processed_df[\"sales\"], label=\"Scaled Sales\")\n",
    "plt.title(\"Preprocessed Sales Data\")\n",
    "plt.xlabel(\"Date\")\n",
    "plt.ylabel(\"Scaled Sales\")\n",
    "plt.legend()\n",
    "plt.show()\n"
   ]
  }
 ],
 "metadata": {
  "language_info": {
   "name": "python"
  }
 },
 "nbformat": 4,
 "nbformat_minor": 2
}
